{
 "cells": [
  {
   "cell_type": "code",
   "execution_count": 1,
   "id": "05af471b-43a8-4f9d-bfd8-46c45ad2e430",
   "metadata": {
    "tags": []
   },
   "outputs": [
    {
     "name": "stdout",
     "output_type": "stream",
     "text": [
      "True False\n"
     ]
    }
   ],
   "source": [
    "\"\"\" 1.What are the two values of the Boolean data type? How do you write them? \"\"\"\n",
    "\n",
    "# True and False are two values of the Boolean data type and they can be write as\n",
    "\n",
    "a=True\n",
    "b=False\n",
    "\n",
    "print(a,b)"
   ]
  },
  {
   "cell_type": "code",
   "execution_count": 11,
   "id": "9cfbb91e-f0bf-4f33-ad45-f8fb82bb4f94",
   "metadata": {
    "tags": []
   },
   "outputs": [
    {
     "name": "stdout",
     "output_type": "stream",
     "text": [
      "not a=3 is False\n",
      "a>0 and b<0 is False\n",
      "a>0 or b<0 is True\n"
     ]
    }
   ],
   "source": [
    "\"\"\" 2. What are the three different types of Boolean operators? \"\"\"\n",
    "\n",
    "# Three types are Boolean operators are not, and ,or\n",
    "\n",
    "a,b=3,5\n",
    "\n",
    "print(f\"not a=3 is {not(a)}\")\n",
    "print(f\"a>0 and b<0 is {a>0 and b<0}\")\n",
    "print(f\"a>0 or b<0 is {a>0 or b<0}\")\n"
   ]
  },
  {
   "cell_type": "code",
   "execution_count": 6,
   "id": "10335c91-517f-4c29-8cb2-3b04de13a975",
   "metadata": {
    "tags": []
   },
   "outputs": [
    {
     "data": {
      "text/plain": [
       "3"
      ]
     },
     "execution_count": 6,
     "metadata": {},
     "output_type": "execute_result"
    }
   ],
   "source": [
    "\"\"\" 3. Make a list of each Boolean operator's truth tables\n",
    "(i.e. every possible combination of Boolean values for the operator and what it evaluate ).\"\"\"\n",
    "\n",
    "\"\"\" \n",
    "    A     not(A)\n",
    "    \n",
    "    True  False\n",
    "    False True\n",
    "    \n",
    "    A       B        A and B   A or B\n",
    "    \n",
    "    False   False    False     False\n",
    "    False   True     False     True\n",
    "    True    False    False     True\n",
    "    True    True     True      True\n",
    "      \n",
    "\"\"\"\n"
   ]
  },
  {
   "cell_type": "code",
   "execution_count": 13,
   "id": "a345c8e0-a4f4-45c8-8e18-09fa6f5717fa",
   "metadata": {
    "tags": []
   },
   "outputs": [
    {
     "name": "stdout",
     "output_type": "stream",
     "text": [
      "(5 > 4) and (3 == 5) is False\n",
      "not (5 > 4) is False\n",
      "(5 > 4) or (3 == 5) is True\n",
      "not ((5 > 4) or (3 == 5)) is False\n",
      "(True and True) and (True == False) is False\n",
      "(not False) or (not True)is True\n"
     ]
    }
   ],
   "source": [
    "\"\"\"  \n",
    "4. What are the values of the following expressions?\n",
    "(5 > 4) and (3 == 5)\n",
    "not (5 > 4)\n",
    "(5 > 4) or (3 == 5)\n",
    "not ((5 > 4) or (3 == 5))\n",
    "(True and True) and (True == False)\n",
    "(not False) or (not True)\n",
    "\n",
    "\"\"\"\n",
    "\n",
    "print(f\"(5 > 4) and (3 == 5) is {(5 > 4) and (3 == 5)}\")\n",
    "print(f\"not (5 > 4) is {not (5 > 4)}\")\n",
    "print(f\"(5 > 4) or (3 == 5) is {(5 > 4) or (3 == 5)}\")\n",
    "print(f\"not ((5 > 4) or (3 == 5)) is {not ((5 > 4) or (3 == 5))}\")\n",
    "print(f\"(True and True) and (True == False) is {(True and True) and (True == False)}\")\n",
    "print(f\"(not False) or (not True)is {(not False) or (not True)}\")\n"
   ]
  },
  {
   "cell_type": "code",
   "execution_count": 15,
   "id": "f25c7917-be3b-4cec-8fdd-8dd1d39e1a23",
   "metadata": {
    "tags": []
   },
   "outputs": [
    {
     "name": "stdout",
     "output_type": "stream",
     "text": [
      " a>b is False\n",
      " a>=b is False\n",
      " a<b is True\n",
      " a<=b is True\n",
      " a==b is False\n",
      " a!=b is True\n"
     ]
    }
   ],
   "source": [
    "\"\"\" 5. What are the six comparison operators? \"\"\"\n",
    "\n",
    "# <=, <, >=, >,==,!=\n",
    "\n",
    "a,b=2,3\n",
    "\n",
    "print(f\" a>b is {a>b}\")\n",
    "print(f\" a>=b is {a>=b}\")\n",
    "print(f\" a<b is {a<b}\")\n",
    "print(f\" a<=b is {a<=b}\")\n",
    "print(f\" a==b is {a==b}\")\n",
    "print(f\" a!=b is {a!=b}\")\n"
   ]
  },
  {
   "cell_type": "code",
   "execution_count": 16,
   "id": "2b4d331d-5568-462f-86cb-aeb8411ed4c1",
   "metadata": {
    "tags": []
   },
   "outputs": [
    {
     "name": "stdout",
     "output_type": "stream",
     "text": [
      "True\n"
     ]
    }
   ],
   "source": [
    "\"\"\" 6. How do you tell the difference between the equal to and assignment operators?\n",
    "Describe a condition and when you would use one.\n",
    "\"\"\"\n",
    "# equal operator is == and assignment operator is =\n",
    "\n",
    "a=10\n",
    "b=10\n",
    "\n",
    "print(a==b)\n"
   ]
  },
  {
   "cell_type": "code",
   "execution_count": 17,
   "id": "a8fcd3ed-a509-4b25-8e38-a8361a24203f",
   "metadata": {
    "tags": []
   },
   "outputs": [
    {
     "name": "stdout",
     "output_type": "stream",
     "text": [
      "spam\n"
     ]
    }
   ],
   "source": [
    "\"\"\"\n",
    "7. Identify the three blocks in this code:\n",
    "spam = 0\n",
    "if spam == 10:\n",
    "print('eggs')\n",
    "if spam > 5:\n",
    "print('bacon')\n",
    "else:\n",
    "print('ham')\n",
    "print('spam')\n",
    "print('spam')\n",
    "\n",
    "\"\"\"\n",
    "\n",
    "spam = 0\n",
    "if spam == 10:\n",
    "    print('eggs')\n",
    "if spam > 5:\n",
    "    print('bacon')\n",
    "else:\n",
    "    print('spam')\n"
   ]
  },
  {
   "cell_type": "code",
   "execution_count": 21,
   "id": "48ff33ab-1603-4a7b-8cf3-d84e30c7e609",
   "metadata": {
    "tags": []
   },
   "outputs": [
    {
     "name": "stdin",
     "output_type": "stream",
     "text": [
      "Enter spam value:   1\n"
     ]
    },
    {
     "name": "stdout",
     "output_type": "stream",
     "text": [
      "Hello\n"
     ]
    }
   ],
   "source": [
    "\"\"\"\n",
    "8. Write code that prints Hello if 1 is stored in spam, \n",
    "prints Howdy if 2 is stored in spam, and \n",
    "prints Greetings! if anything else is stored in spam.\n",
    "\n",
    "\"\"\"\n",
    "spam=int(input(\"Enter spam value:  \"))\n",
    "if spam==1:\n",
    "    print(\"Hello\")\n",
    "elif spam==2:\n",
    "    print(\"Howdy\")\n",
    "else:\n",
    "    print(\"Greetings!\")\n",
    "         "
   ]
  },
  {
   "cell_type": "code",
   "execution_count": null,
   "id": "ceca9415-8a74-4c74-8083-fe45383c156b",
   "metadata": {},
   "outputs": [],
   "source": [
    "\"\"\" 9.If your programme is stuck in an endless loop, what keys you’ll press? \"\"\"\n",
    "\n",
    "# CTRL+C"
   ]
  },
  {
   "cell_type": "code",
   "execution_count": 23,
   "id": "bde05911-839a-4350-8cff-886c98051b96",
   "metadata": {
    "tags": []
   },
   "outputs": [
    {
     "name": "stdout",
     "output_type": "stream",
     "text": [
      "5\n",
      "6\n",
      "7\n",
      "8\n",
      "9\n"
     ]
    }
   ],
   "source": [
    "\"\"\" 10. How can you tell the difference between break and continue? \"\"\"\n",
    "\n",
    "\"\"\" Break:A break statement in Python alters the flow of a loop by terminating it once a specified condition is met.\n",
    "    Continue: The continue statement in Python is used to skip the remaining code inside a loop for the current iteration only\n",
    "\"\"\"\n",
    "\n",
    "for i in range(1,11):\n",
    "    if i<5:\n",
    "        continue\n",
    "    print(i)\n",
    "    if i==9:\n",
    "        break"
   ]
  },
  {
   "cell_type": "code",
   "execution_count": 27,
   "id": "134d2b5d-4121-45ac-b07e-60dbdba2b6a3",
   "metadata": {
    "tags": []
   },
   "outputs": [
    {
     "name": "stdout",
     "output_type": "stream",
     "text": [
      "0\n",
      "1\n",
      "2\n",
      "3\n",
      "4\n",
      "5\n",
      "6\n",
      "7\n",
      "8\n",
      "9\n",
      "----------\n",
      "0\n",
      "1\n",
      "2\n",
      "3\n",
      "4\n",
      "5\n",
      "6\n",
      "7\n",
      "8\n",
      "9\n",
      "----------\n",
      "0\n",
      "1\n",
      "2\n",
      "3\n",
      "4\n",
      "5\n",
      "6\n",
      "7\n",
      "8\n",
      "9\n"
     ]
    }
   ],
   "source": [
    "\"\"\" 11. In a for loop, what is the difference between range(10), range(0, 10), and range(0, 10, 1)? \"\"\"\n",
    "\n",
    "# Outcome all are same only\n",
    "\n",
    "for i in range(10):\n",
    "    print(i)\n",
    "    \n",
    "print(\"----------\")    \n",
    "for i in range(0,10):\n",
    "    print(i)\n",
    "    \n",
    "print(\"----------\")    \n",
    "for i in range(0,10,1):\n",
    "    print(i)"
   ]
  },
  {
   "cell_type": "code",
   "execution_count": 32,
   "id": "3f55de5b-f818-43e6-98c2-d5da2a24c88f",
   "metadata": {
    "tags": []
   },
   "outputs": [
    {
     "name": "stdout",
     "output_type": "stream",
     "text": [
      "Prints the numbers 1 to 10 using a for loop\n",
      "1\n",
      "2\n",
      "3\n",
      "4\n",
      "5\n",
      "6\n",
      "7\n",
      "8\n",
      "9\n",
      "10\n",
      "Prints the numbers 1 to 10 using a while loop\n",
      "1\n",
      "2\n",
      "3\n",
      "4\n",
      "5\n",
      "6\n",
      "7\n",
      "8\n",
      "9\n",
      "10\n"
     ]
    }
   ],
   "source": [
    "\"\"\" 12. Write a short program that prints the numbers 1 to 10 using a for loop.\n",
    "Then write an equivalent program that prints the numbers 1 to 10 using a while loop.\"\"\"\n",
    "\n",
    "print(\"Prints the numbers 1 to 10 using a for loop\")\n",
    "for i in range(1,11):\n",
    "    print(i)\n",
    "    \n",
    "print(\"Prints the numbers 1 to 10 using a while loop\")\n",
    "i=1\n",
    "while(i<=10):\n",
    "    print(i)\n",
    "    i=i+1\n"
   ]
  },
  {
   "cell_type": "code",
   "execution_count": null,
   "id": "98c27a32-2891-4988-b3f1-7c01de3e3354",
   "metadata": {},
   "outputs": [],
   "source": []
  }
 ],
 "metadata": {
  "kernelspec": {
   "display_name": "Python 3 (ipykernel)",
   "language": "python",
   "name": "python3"
  },
  "language_info": {
   "codemirror_mode": {
    "name": "ipython",
    "version": 3
   },
   "file_extension": ".py",
   "mimetype": "text/x-python",
   "name": "python",
   "nbconvert_exporter": "python",
   "pygments_lexer": "ipython3",
   "version": "3.11.2"
  }
 },
 "nbformat": 4,
 "nbformat_minor": 5
}
