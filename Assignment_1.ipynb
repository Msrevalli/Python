{
 "cells": [
  {
   "cell_type": "code",
   "execution_count": 13,
   "id": "8a8f589a-9f93-4e18-a155-e77b0f1aaa9e",
   "metadata": {
    "tags": []
   },
   "outputs": [
    {
     "name": "stdout",
     "output_type": "stream",
     "text": [
      "* is a operator and a*b = 3\n",
      "hello is a <class 'str'>\n",
      "-87.8 is a <class 'float'>\n",
      "- is a operator and a-b = 2\n",
      "6 is a <class 'int'>\n"
     ]
    }
   ],
   "source": [
    "''' 1. In the below elements which of them are values or an expression? eg:- values can be integer or string and expressions will be mathematical operators.\n",
    "* \n",
    "'hello'\n",
    "-87.8\n",
    "- \n",
    "/ \n",
    "+\t\n",
    "6 \n",
    "'''\n",
    "\n",
    "a,b=3,1\n",
    "print(f\"* is a operator and a*b = {a*b}\")\n",
    "\n",
    "# * is a operator\n",
    "\n",
    "print(f\"hello is a {type('hello')}\")\n",
    "# 'hello' is a string\n",
    "\n",
    "print(f\"-87.8 is a {type(-87.8)}\")\n",
    "# -87.8 is a float\n",
    "\n",
    "print(f\"- is a operator and a-b = {a-b}\")\n",
    "\n",
    "print(f\"6 is a {type(6)}\")\n",
    "# 6 is a int\n",
    "\n"
   ]
  },
  {
   "cell_type": "code",
   "execution_count": 14,
   "id": "0158ea99-2284-42d5-8314-14ff2269f57e",
   "metadata": {
    "tags": []
   },
   "outputs": [
    {
     "data": {
      "text/plain": [
       "str"
      ]
     },
     "execution_count": 14,
     "metadata": {},
     "output_type": "execute_result"
    }
   ],
   "source": [
    "\"\"\" 2. What is the difference between string and variable? \"\"\"\n",
    "\n",
    "# Variable are used to store data of any datatype\n",
    "# Sting is a datatype \n",
    "# A variable can hold a string data type\n",
    "\n",
    "a=\"Hi\"\n",
    "# a is a variable hold \"Hi\" which of string data type\n",
    "\n",
    "type(a)"
   ]
  },
  {
   "cell_type": "code",
   "execution_count": 16,
   "id": "7db4fc29-4617-40a6-aba3-e431052e9f99",
   "metadata": {
    "tags": []
   },
   "outputs": [
    {
     "name": "stdout",
     "output_type": "stream",
     "text": [
      "a=1 and 1 is of <class 'int'> datatype\n",
      "b=0.5 and 0.5 is of <class 'float'> datatype\n",
      "c=\"Hi\" and \"Hi\" is of <class 'str'> datatype\n"
     ]
    }
   ],
   "source": [
    "\"\"\" 3. Describe three different data types. \"\"\"\n",
    "\n",
    "# Three different data types are int, float and string\n",
    "\n",
    "a=1\n",
    "b=0.5\n",
    "c=\"Hi\"\n",
    "\n",
    "print(f\"a=1 and 1 is of {type(a)} datatype\")\n",
    "print(f\"b=0.5 and 0.5 is of {type(b)} datatype\")\n",
    "print(f\"\"\"c=\"Hi\" and \"Hi\" is of {type(c)} datatype\"\"\")"
   ]
  },
  {
   "cell_type": "code",
   "execution_count": 17,
   "id": "ece76453-bf58-470d-acf6-59ca2f770c05",
   "metadata": {
    "tags": []
   },
   "outputs": [
    {
     "name": "stdout",
     "output_type": "stream",
     "text": [
      "a+b+5 is a expression and it's value is 8\n"
     ]
    }
   ],
   "source": [
    "\"\"\"4.  What is an expression made up of? What do all expressions do? \"\"\"\n",
    "\n",
    "# Expression is madeup of variables, values and operators\n",
    "\n",
    "a,b=1,2\n",
    "c=a+b+5\n",
    "print(f\"a+b+5 is a expression and it's value is {c}\")"
   ]
  },
  {
   "cell_type": "code",
   "execution_count": null,
   "id": "e2d76119-e529-4edd-9cd2-220a210fbea9",
   "metadata": {},
   "outputs": [],
   "source": [
    "\"\"\" 5. This assignment statements, like spam = 10. What is the difference between an expression and a statement? \"\"\"\n",
    "\n",
    "# Statemant is for creating variables, displaying values\n",
    "# Expression is madeup of variables, values and operators\n",
    "\n",
    "a=10\n",
    "#It is a statement\n",
    "\n",
    "b+100\n",
    "\n",
    "#It is a expression\n"
   ]
  },
  {
   "cell_type": "code",
   "execution_count": 18,
   "id": "2c77779f-2bed-48b5-b737-cf50f774b174",
   "metadata": {
    "tags": []
   },
   "outputs": [
    {
     "name": "stdout",
     "output_type": "stream",
     "text": [
      "bacon = 22\n"
     ]
    }
   ],
   "source": [
    "\"\"\" 6. After running the following code, what does the variable bacon contain? \"\"\"\n",
    "\n",
    "bacon = 22\n",
    "bacon + 1\n",
    "print(f\"bacon = {bacon}\")"
   ]
  },
  {
   "cell_type": "code",
   "execution_count": 21,
   "id": "fb6194d0-efa2-41d9-a20d-359fd5bc1d18",
   "metadata": {
    "tags": []
   },
   "outputs": [
    {
     "name": "stdout",
     "output_type": "stream",
     "text": [
      "'spam' + 'spamspam' = spamspamspam\n",
      "'spam' * 3 = spamspamspam\n"
     ]
    }
   ],
   "source": [
    "\"\"\" 7. What should the values of the following two terms be?\n",
    "'spam' + 'spamspam'\n",
    "'spam' * 3\n",
    "\"\"\"\n",
    "print(f\"\"\"'spam' + 'spamspam' = {'spam' + 'spamspam'}\"\"\")\n",
    "\n",
    "print(f\"\"\"'spam' * 3 = {'spam' * 3}\"\"\")\n",
    "\n"
   ]
  },
  {
   "cell_type": "code",
   "execution_count": 22,
   "id": "8d9284dd-1dc7-4f08-a153-9081c6f27f60",
   "metadata": {
    "tags": []
   },
   "outputs": [],
   "source": [
    "\"\"\" 8. Why is eggs a valid variable name while 100 is invalid? \"\"\"\n",
    "\n",
    "# eggs can hold a value of any datatype.egg starts with a letter\n",
    "\n",
    "# 100 is value and it starts with number. It can't hold a value\n",
    "\n",
    "eggs=100\n"
   ]
  },
  {
   "cell_type": "code",
   "execution_count": 38,
   "id": "cf3f246e-4184-4b17-90d3-eda8981d6b07",
   "metadata": {
    "tags": []
   },
   "outputs": [
    {
     "name": "stdout",
     "output_type": "stream",
     "text": [
      "Integer version of 1 is 1\n",
      "Float version of 1 is 1.0\n",
      "String version of 1 is '1' \n"
     ]
    }
   ],
   "source": [
    "\"\"\" 9. What three functions can be used to get the integer, floating-point number, or string version of a value? \"\"\"\n",
    "\n",
    "# int() is used to get integer version of a value\n",
    "# float() is used to get floating-point version of a value\n",
    "# str() is used to get string version of a value\n",
    "\n",
    "a=1\n",
    "print(f\"Integer version of {a} is {int(a)}\")\n",
    "print(f\"Float version of {a} is {float(a)}\")\n",
    "print(f\"\"\"String version of {a} is '{str(a)}' \"\"\")\n"
   ]
  },
  {
   "cell_type": "code",
   "execution_count": 36,
   "id": "06df1192-227e-4702-ad5d-a26562edc847",
   "metadata": {
    "tags": []
   },
   "outputs": [
    {
     "data": {
      "text/plain": [
       "'1'"
      ]
     },
     "execution_count": 36,
     "metadata": {},
     "output_type": "execute_result"
    }
   ],
   "source": [
    "\"\"\" 10. Why does this expression cause an error? How can you fix it?\n",
    "'I have eaten ' + 99 + ' burritos.'\n",
    "\"\"\"\n",
    "\n",
    "# Above expression is sum of string and integer. If convert int\n"
   ]
  }
 ],
 "metadata": {
  "kernelspec": {
   "display_name": "Python 3 (ipykernel)",
   "language": "python",
   "name": "python3"
  },
  "language_info": {
   "codemirror_mode": {
    "name": "ipython",
    "version": 3
   },
   "file_extension": ".py",
   "mimetype": "text/x-python",
   "name": "python",
   "nbconvert_exporter": "python",
   "pygments_lexer": "ipython3",
   "version": "3.11.2"
  }
 },
 "nbformat": 4,
 "nbformat_minor": 5
}
