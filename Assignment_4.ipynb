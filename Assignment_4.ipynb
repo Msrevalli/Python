{
 "cells": [
  {
   "cell_type": "code",
   "execution_count": null,
   "id": "c2c2801d-8b56-4e06-9bd2-e9da741921bd",
   "metadata": {},
   "outputs": [],
   "source": [
    "\"\"\" 1. What exactly is []? \"\"\"\n",
    "# Empty list"
   ]
  },
  {
   "cell_type": "code",
   "execution_count": 11,
   "id": "04e1f2ee-9e5a-48c1-9e39-fefc7598b7a6",
   "metadata": {
    "tags": []
   },
   "outputs": [
    {
     "name": "stdout",
     "output_type": "stream",
     "text": [
      "[2, 4, 6, 'hello', 10]\n"
     ]
    }
   ],
   "source": [
    "\"\"\" 2. In a list of values stored in a variable called spam, how would you assign the value 'hello' as the third value? \n",
    "(Assume [2, 4, 6, 8, 10] are in spam.) \"\"\"\n",
    "\n",
    "spam=[2,4,6,8,10]\n",
    "spam[3]=\"hello\"\n",
    "print(spam)"
   ]
  },
  {
   "cell_type": "code",
   "execution_count": 12,
   "id": "00ab5c12-0587-4e98-a9b3-bdcce77d0979",
   "metadata": {
    "tags": []
   },
   "outputs": [
    {
     "data": {
      "text/plain": [
       "'d'"
      ]
     },
     "execution_count": 12,
     "metadata": {},
     "output_type": "execute_result"
    }
   ],
   "source": [
    "\"\"\" 3. What is the value of spam[int(int('3' * 2) / 11)]? \"\"\"\n",
    "\n",
    "spam=['a', 'b', 'c', 'd'] \n",
    "spam[int(int('3' * 2) / 11)]\n"
   ]
  },
  {
   "cell_type": "code",
   "execution_count": 13,
   "id": "da6965bb-b9d7-4e65-a489-6c0e1c9be4fd",
   "metadata": {
    "tags": []
   },
   "outputs": [
    {
     "data": {
      "text/plain": [
       "'d'"
      ]
     },
     "execution_count": 13,
     "metadata": {},
     "output_type": "execute_result"
    }
   ],
   "source": [
    "\"\"\" 4. What is the value of spam[-1]? \"\"\"\n",
    "spam[-1]"
   ]
  },
  {
   "cell_type": "code",
   "execution_count": 14,
   "id": "d10c9beb-5fbb-4671-852b-3568934eeae1",
   "metadata": {
    "tags": []
   },
   "outputs": [
    {
     "data": {
      "text/plain": [
       "['a', 'b']"
      ]
     },
     "execution_count": 14,
     "metadata": {},
     "output_type": "execute_result"
    }
   ],
   "source": [
    "\"\"\" 5. What is the value of spam[:2]? \"\"\"\n",
    "spam[:2]"
   ]
  },
  {
   "cell_type": "code",
   "execution_count": 17,
   "id": "e964be1e-ba4a-4015-9b10-c9bbb7e1dcaa",
   "metadata": {
    "tags": []
   },
   "outputs": [
    {
     "data": {
      "text/plain": [
       "1"
      ]
     },
     "execution_count": 17,
     "metadata": {},
     "output_type": "execute_result"
    }
   ],
   "source": [
    "\"\"\" 6. What is the value of bacon.index('cat')? \"\"\"\n",
    "\n",
    "bacon = [3.14,'cat', 11, 'cat',True] \n",
    "bacon.index('cat')\n"
   ]
  },
  {
   "cell_type": "code",
   "execution_count": 18,
   "id": "53bc19b5-14a2-4d28-bbff-247f838978bd",
   "metadata": {
    "tags": []
   },
   "outputs": [
    {
     "name": "stdout",
     "output_type": "stream",
     "text": [
      "[3.14, 'cat', 11, 'cat', True]\n",
      "[3.14, 'cat', 11, 'cat', True, 99]\n"
     ]
    }
   ],
   "source": [
    "\"\"\" 7. How does bacon.append(99) change the look of the list value in bacon? \"\"\"\n",
    "\n",
    "print(bacon)\n",
    "bacon.append(99)\n",
    "print(bacon)\n"
   ]
  },
  {
   "cell_type": "code",
   "execution_count": 19,
   "id": "eb6a05ad-0627-4518-ac1b-43fdb900cb4c",
   "metadata": {
    "tags": []
   },
   "outputs": [
    {
     "name": "stdout",
     "output_type": "stream",
     "text": [
      "[3.14, 'cat', 11, 'cat', True, 99]\n",
      "[3.14, 11, 'cat', True, 99]\n"
     ]
    }
   ],
   "source": [
    "\"\"\" 8. How does bacon.remove('cat') change the look of the list in bacon? \"\"\"\n",
    "\n",
    "print(bacon)\n",
    "bacon.remove('cat')\n",
    "print(bacon)"
   ]
  },
  {
   "cell_type": "code",
   "execution_count": 22,
   "id": "7f90eb6f-5cd3-481d-804c-40ee5caf691c",
   "metadata": {
    "tags": []
   },
   "outputs": [
    {
     "name": "stdout",
     "output_type": "stream",
     "text": [
      "[3.14, 'cat', 11, 'cat', True, 3]\n",
      "[3.14, 'cat', 11, 'cat', True, 3.14, 'cat', 11, 'cat', True]\n"
     ]
    }
   ],
   "source": [
    "\"\"\" 9. What are the list concatenation and list replication operators? \"\"\"\n",
    "\n",
    "# list concatanation operator is '+'\n",
    "# list replication operator is *\n",
    "\n",
    "bacon = [3.14,'cat', 11, 'cat',True] \n",
    "print(bacon+[3])\n",
    "print(bacon*2)"
   ]
  },
  {
   "cell_type": "code",
   "execution_count": 28,
   "id": "5be46d80-1547-4fbe-b405-25caee59e2b2",
   "metadata": {
    "tags": []
   },
   "outputs": [
    {
     "name": "stdout",
     "output_type": "stream",
     "text": [
      "[3.14, 'cat', 11, 'cat', True, 3]\n",
      "[3.14, 4, 'cat', 11, 'cat', True, 3]\n"
     ]
    }
   ],
   "source": [
    "\"\"\" 10. What is difference between the list methods append() and insert()? \"\"\"\n",
    "\n",
    "# append() is used to add a element in end of list\n",
    "# insert() is used to add a element at specified index\n",
    "\n",
    "bacon = [3.14,'cat', 11, 'cat',True] \n",
    "bacon.append(3) #To add 3 at end of list\n",
    "print(bacon)\n",
    "bacon.insert(1,4) # To add 4 at index 3\n",
    "print(bacon)"
   ]
  },
  {
   "cell_type": "code",
   "execution_count": 29,
   "id": "255d761b-b76c-439a-84e0-93120abbd706",
   "metadata": {
    "tags": []
   },
   "outputs": [
    {
     "name": "stdout",
     "output_type": "stream",
     "text": [
      "[3.14, 'cat', 'cat', True]\n",
      "[3.14, 'cat', 'cat']\n"
     ]
    }
   ],
   "source": [
    "\"\"\" 11. What are the two methods for removing items from a list? \"\"\"\n",
    "\n",
    "# remove and pop methods are used for removing items from a list\n",
    "# mylist_remove(item) is used to remove specified item from list\n",
    "# mylist_pop(index) is used to remove item pointing to specified index\n",
    "\n",
    "bacon = [3.14,'cat', 11, 'cat',True] \n",
    "bacon.remove(11) # removes 11 from list\n",
    "print(bacon)\n",
    "bacon.pop(3) # removes index 3 item from list \n",
    "print(bacon)\n"
   ]
  },
  {
   "cell_type": "code",
   "execution_count": 31,
   "id": "935447c9-ea40-4304-afd1-cde01bd087a6",
   "metadata": {
    "tags": []
   },
   "outputs": [
    {
     "name": "stdout",
     "output_type": "stream",
     "text": [
      "3\n",
      "l\n",
      "[1, 2]\n",
      "He\n",
      "[1, 2, 3, 'h', 'o', 0, 6]\n",
      "Helloj\n",
      "[1, 2, 3, 'h', 'o', 0, 1, 2, 3, 'h', 'o', 0]\n",
      "HelloHello\n"
     ]
    }
   ],
   "source": [
    "\"\"\" 12. Describe how list values and string values are identical. \"\"\"\n",
    "\n",
    "# Both list and string holds sequence of data\n",
    "# Both list and string haved ordered data\n",
    "# Both list and string data can be indexed and sliced\n",
    "# Both list and string data supports concatination and replication\n",
    "\n",
    "l1=[1,2,3,'h','o',0]\n",
    "s1=\"Hello\"\n",
    "print(l1[2]) #indexed\n",
    "print(s1[2])  #indexed\n",
    "print(l1[0:2]) #slicing\n",
    "print(s1[0:2]) #slicing\n",
    "print(l1+[6]) #concatination\n",
    "print(s1+'j') #concatination\n",
    "print(l1*2) #replication\n",
    "print(s1*2) #replication\n"
   ]
  },
  {
   "cell_type": "code",
   "execution_count": 34,
   "id": "8c2fa465-f1d1-436d-9af1-c600fe0c3ea7",
   "metadata": {
    "tags": []
   },
   "outputs": [
    {
     "name": "stdout",
     "output_type": "stream",
     "text": [
      "3\n",
      "3\n",
      "[1, 3, 3, 4]\n"
     ]
    },
    {
     "ename": "TypeError",
     "evalue": "'tuple' object does not support item assignment",
     "output_type": "error",
     "traceback": [
      "\u001b[1;31m---------------------------------------------------------------------------\u001b[0m",
      "\u001b[1;31mTypeError\u001b[0m                                 Traceback (most recent call last)",
      "Cell \u001b[1;32mIn[34], line 15\u001b[0m\n\u001b[0;32m     12\u001b[0m my_list[\u001b[38;5;241m1\u001b[39m]\u001b[38;5;241m=\u001b[39m\u001b[38;5;241m3\u001b[39m \u001b[38;5;66;03m# this will modify list\u001b[39;00m\n\u001b[0;32m     13\u001b[0m \u001b[38;5;28mprint\u001b[39m(my_list)\n\u001b[1;32m---> 15\u001b[0m \u001b[43mmy_tuple\u001b[49m\u001b[43m[\u001b[49m\u001b[38;5;241;43m1\u001b[39;49m\u001b[43m]\u001b[49m\u001b[38;5;241m=\u001b[39m\u001b[38;5;241m3\u001b[39m \u001b[38;5;66;03m# It will raise error because tuples are immutable\u001b[39;00m\n",
      "\u001b[1;31mTypeError\u001b[0m: 'tuple' object does not support item assignment"
     ]
    }
   ],
   "source": [
    "\"\"\" 13. What's the difference between tuples and lists? \"\"\"\n",
    "\n",
    "# Tuples are immutable whereas lists are mutable\n",
    "# Tuples are defined using () whereas lists are defined using []\n",
    "\n",
    "my_tuple=(1,2,3,4) # creating tuple\n",
    "my_list=[1,2,3,4]  # creating list\n",
    "\n",
    "print(my_tuple[2])\n",
    "print(my_list[2])\n",
    "\n",
    "my_list[1]=3 # this will modify list\n",
    "print(my_list)\n",
    "\n",
    "my_tuple[1]=3 # It will raise error because tuples are immutable\n",
    "\n"
   ]
  },
  {
   "cell_type": "code",
   "execution_count": 39,
   "id": "b4dd5457-2b0d-41f4-a345-ece71e7c68d2",
   "metadata": {
    "tags": []
   },
   "outputs": [
    {
     "data": {
      "text/plain": [
       "tuple"
      ]
     },
     "execution_count": 39,
     "metadata": {},
     "output_type": "execute_result"
    }
   ],
   "source": [
    "\"\"\" 14. How do you type a tuple value that only contains the integer 42? \"\"\"\n",
    "\n",
    "my_tuple=(42,)\n",
    "type(my_tuple)"
   ]
  },
  {
   "cell_type": "code",
   "execution_count": 40,
   "id": "6634122f-10ab-428e-b5c2-96c2a2d4681a",
   "metadata": {
    "tags": []
   },
   "outputs": [
    {
     "name": "stdout",
     "output_type": "stream",
     "text": [
      "[1, 2, 3]\n",
      "(1, 2, 3, 4)\n"
     ]
    }
   ],
   "source": [
    "\"\"\" 15. How do you get a list value's tuple form? How do you get a tuple value's list form? \"\"\"\n",
    "\n",
    "# By using tuple() list can be converted to tuple\n",
    "# By using list() tuple can be converted to list\n",
    "\n",
    "my_tuple=(1,2,3)\n",
    "my_created_list=list(my_tuple)\n",
    "print(my_created_list)\n",
    "\n",
    "my_list=[1,2,3,4]\n",
    "my_created_tuple=tuple(my_list)\n",
    "print(my_created_tuple)\n",
    "\n"
   ]
  },
  {
   "cell_type": "code",
   "execution_count": 41,
   "id": "4b32707e-83cc-44c0-a9b1-f60825a1f5e1",
   "metadata": {
    "tags": []
   },
   "outputs": [
    {
     "name": "stdout",
     "output_type": "stream",
     "text": [
      "[1, 2, 3, 4, 5]\n",
      "[1, 2, 3, 4, 5]\n"
     ]
    }
   ],
   "source": [
    "\"\"\" 16. Variables that \"contain\" list values are not necessarily lists themselves.\n",
    "    Instead, what do they contain? \"\"\"\n",
    "\n",
    "# Variables that \"contain\" list values in Python are actually references to the list objects\n",
    "\n",
    "list1=[1,2,3,4]\n",
    "list2=list1\n",
    "list1.append(5)\n",
    "print(list1)\n",
    "print(list2)\n"
   ]
  },
  {
   "cell_type": "code",
   "execution_count": 48,
   "id": "9a397f47-422d-4c41-8e15-b2ddef7df3eb",
   "metadata": {
    "tags": []
   },
   "outputs": [
    {
     "name": "stdout",
     "output_type": "stream",
     "text": [
      "[['x', 2], [3, 4]]\n",
      "[['x', 2], [3, 4]]\n",
      "[[1, 2], [3, 4]]\n"
     ]
    }
   ],
   "source": [
    "\"\"\" 17. How do you distinguish between copy.copy() and copy.deepcopy()? \"\"\"\n",
    "\n",
    "# copy.copy(): This method creates a shallow copy of an object. \n",
    "# A shallow copy means that it creates a new object with a new memory address, but the contents of the object are still references to the same memory locations as the original object. \n",
    "#copy.deepcopy(): This method creates a deep copy of an object. \n",
    "#A deep copy means that it creates a new object with a new memory address, and the contents of the object are also copied recursively.\n",
    "\n",
    "import copy\n",
    "l1=[[1,2],[3,4]]\n",
    "l2=copy.copy(l1)\n",
    "l3=copy.deepcopy(l1)\n",
    "\n",
    "l1[0][0]='x'\n",
    "\n",
    "print(l1)\n",
    "print(l2)\n",
    "print(l3)\n"
   ]
  },
  {
   "cell_type": "code",
   "execution_count": null,
   "id": "1c456ae9-4953-4138-b385-575f51afda39",
   "metadata": {},
   "outputs": [],
   "source": []
  }
 ],
 "metadata": {
  "kernelspec": {
   "display_name": "Python 3 (ipykernel)",
   "language": "python",
   "name": "python3"
  },
  "language_info": {
   "codemirror_mode": {
    "name": "ipython",
    "version": 3
   },
   "file_extension": ".py",
   "mimetype": "text/x-python",
   "name": "python",
   "nbconvert_exporter": "python",
   "pygments_lexer": "ipython3",
   "version": "3.11.2"
  }
 },
 "nbformat": 4,
 "nbformat_minor": 5
}
