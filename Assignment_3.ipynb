{
 "cells": [
  {
   "cell_type": "code",
   "execution_count": 2,
   "id": "369071ae-b261-4e34-bc5c-a37b2cce8bf4",
   "metadata": {
    "tags": []
   },
   "outputs": [],
   "source": [
    "\"\"\"\n",
    "1. Why are functions advantageous to have in your programs?\n",
    "\n",
    "\"\"\"\n",
    "#Advantazes of function are Code reusability, Modular programming, Encapsulation, Testing\n",
    "\n",
    "# Code reusability\n",
    "def rectangle_area(length,width):\n",
    "    return length*width\n",
    "\n",
    "a1=rectangle_area(2,3)\n",
    "a2=rectangle_area(5,6)\n",
    "\n",
    "# Modular Programming\n",
    "def read_data(data):\n",
    "    pass\n",
    "\n",
    "def clean_data(data):\n",
    "    pass\n",
    "\n",
    "def process_data(data):\n",
    "    pass\n",
    "\n",
    "def writetest_results(data):\n",
    "    pass\n",
    "\n",
    "data1 = [1,2,3,4]\n",
    "\n",
    "data=read_data(data1)\n",
    "data=clean_data(data)\n",
    "result=process_data(data)\n",
    "writetest_results(data)\n",
    "\n"
   ]
  },
  {
   "cell_type": "code",
   "execution_count": null,
   "id": "663ec939-c45b-4077-a33d-cf82b92ae2a8",
   "metadata": {},
   "outputs": [],
   "source": [
    "\"\"\" 2.  When does the code in a function run: when it's specified or when it's called? \"\"\"\n",
    "\n",
    "# code in a function run when it's called\n"
   ]
  },
  {
   "cell_type": "code",
   "execution_count": 4,
   "id": "6a48c5b2-e69b-45d5-8b8b-c91164819bd7",
   "metadata": {
    "tags": []
   },
   "outputs": [],
   "source": [
    "\"\"\" 3. What statement creates a function? \"\"\"\n",
    "\n",
    "# def statement creates a function\n",
    "\n",
    "def create_function(parameters):\n",
    "       \n",
    "    \"\"\"\n",
    "    Docstring (optional) explaining what function does\n",
    "    \n",
    "    \"\"\"\n",
    "    # Function body\n",
    "    return result # optional return statement"
   ]
  },
  {
   "cell_type": "code",
   "execution_count": 6,
   "id": "323bf486-b6c5-4d61-8f01-14735fd2ddb9",
   "metadata": {
    "tags": []
   },
   "outputs": [],
   "source": [
    "\"\"\" 4. What is the difference between a function and a function call? \"\"\"\n",
    "\n",
    "# A function is a block of reusable code that performs a specific task when called\n",
    "\n",
    "#Function definition\n",
    "def add_numbers(a,b):\n",
    "    return a+b\n",
    "\n",
    "#Function calling\n",
    "r1=add_numbers(2,4)\n",
    "r2=add_numbers(6,8)\n"
   ]
  },
  {
   "cell_type": "code",
   "execution_count": 9,
   "id": "80dd6f64-8bc3-4e44-8c6c-f1b3b6ed3d02",
   "metadata": {
    "tags": []
   },
   "outputs": [
    {
     "data": {
      "text/plain": [
       "90"
      ]
     },
     "execution_count": 9,
     "metadata": {},
     "output_type": "execute_result"
    }
   ],
   "source": [
    "\"\"\" 5. How many global scopes are there in a Python program? How many local scopes? \"\"\"\n",
    "\n",
    "# In python there is only one global scope and many local scopes if required\n",
    "\n",
    "# Global variable\n",
    "#It can be accessed any where in program\n",
    "y=10\n",
    "\n",
    "def mul_numbers(x):\n",
    "     # Local variable\n",
    "     # z can be accessed within this function\n",
    "     z=x*y\n",
    "     return z\n",
    "    \n",
    "mul_numbers(9)\n"
   ]
  },
  {
   "cell_type": "code",
   "execution_count": 10,
   "id": "4373a9ff-a7da-48d3-b683-aabe14beef27",
   "metadata": {
    "tags": []
   },
   "outputs": [
    {
     "name": "stdout",
     "output_type": "stream",
     "text": [
      "90\n"
     ]
    },
    {
     "ename": "NameError",
     "evalue": "name 'z' is not defined",
     "output_type": "error",
     "traceback": [
      "\u001b[1;31m---------------------------------------------------------------------------\u001b[0m",
      "\u001b[1;31mNameError\u001b[0m                                 Traceback (most recent call last)",
      "Cell \u001b[1;32mIn[10], line 15\u001b[0m\n\u001b[0;32m     13\u001b[0m result\u001b[38;5;241m=\u001b[39mmul_numbers(\u001b[38;5;241m9\u001b[39m)\n\u001b[0;32m     14\u001b[0m \u001b[38;5;28mprint\u001b[39m(result)\n\u001b[1;32m---> 15\u001b[0m \u001b[38;5;28mprint\u001b[39m(\u001b[43mz\u001b[49m) \u001b[38;5;66;03m# It will raise a name error. Since z is a local variable memory allcated to z is released\u001b[39;00m\n",
      "\u001b[1;31mNameError\u001b[0m: name 'z' is not defined"
     ]
    }
   ],
   "source": [
    "\"\"\" 6. What happens to variables in a local scope when the function call returns? \"\"\"\n",
    "\n",
    "# When function call returns, local variable within the function is destroyed and memory allocated to them is relesed. local variable cann't be accessed outside function\n",
    "\n",
    "y=10\n",
    "\n",
    "def mul_numbers(x):\n",
    "     # Local variable\n",
    "     # z can be accessed within this function\n",
    "     z=x*y\n",
    "     return z\n",
    "    \n",
    "result=mul_numbers(9)\n",
    "print(result)\n",
    "print(z) # It will raise a name error. Since z is a local variable memory allcated to z is released\n",
    "\n",
    "\n"
   ]
  },
  {
   "cell_type": "code",
   "execution_count": 11,
   "id": "e5b1675f-812d-469f-9b6f-c048f46bde55",
   "metadata": {
    "tags": []
   },
   "outputs": [],
   "source": [
    "\"\"\" 7. What is the concept of a return value? Is it possible to have a return value in an expression? \"\"\"\n",
    "\n",
    "# In Python, return value is a value that a function returns to the caller when it completes it's execution.\n",
    "# Return value can be any python object including numbers, strings, lists, dictionaries and even a function also\n",
    "# We can use a resurn value in expression\n",
    "\n",
    "\n",
    "#Function definition\n",
    "def add_numbers(a,b):\n",
    "    return a+b #return value\n",
    "\n",
    "#Function calling\n",
    "r1=add_numbers(2,4)+6 #using return value in expression"
   ]
  },
  {
   "cell_type": "code",
   "execution_count": 12,
   "id": "31c78333-a7d3-4533-92ee-495553686747",
   "metadata": {
    "tags": []
   },
   "outputs": [
    {
     "name": "stdout",
     "output_type": "stream",
     "text": [
      "Hi\n",
      "None\n"
     ]
    }
   ],
   "source": [
    "\"\"\" 8. If a function does not have a return statement, what is the return value of a call to that function? \"\"\"\n",
    "\n",
    "#  If a function does not have a return statement, what is the return value of a call to that function is None\n",
    "\n",
    "def print_s():\n",
    "    print(\"Hi\")\n",
    "    \n",
    "result=print_s()\n",
    "print(result) #output=None\n",
    "    "
   ]
  },
  {
   "cell_type": "code",
   "execution_count": 14,
   "id": "3f0e49fa-3868-451f-89d8-64924cb317af",
   "metadata": {
    "tags": []
   },
   "outputs": [
    {
     "name": "stdout",
     "output_type": "stream",
     "text": [
      "5\n"
     ]
    }
   ],
   "source": [
    "\"\"\" 9. How do you make a function variable refer to the global variable? \"\"\"\n",
    "\n",
    "# By using global keyword, we can make a function variable refer to global variable\n",
    "\n",
    "x=10\n",
    "\n",
    "def test():\n",
    "    global x\n",
    "    x=5 #Modifing global variable\n",
    "\n",
    "test()   \n",
    "print(x)\n"
   ]
  },
  {
   "cell_type": "code",
   "execution_count": 15,
   "id": "5c639781-50e7-45cd-9c83-d0177a44a9c3",
   "metadata": {
    "tags": []
   },
   "outputs": [
    {
     "name": "stdout",
     "output_type": "stream",
     "text": [
      "<class 'NoneType'>\n"
     ]
    }
   ],
   "source": [
    "\"\"\" 10. What is the data type of None? \"\"\"\n",
    "\n",
    "# Data type of None is \"Nonetype\"\n",
    "\n",
    "print(type(None))"
   ]
  },
  {
   "cell_type": "code",
   "execution_count": null,
   "id": "2efcad2e-ba16-4c8a-92c0-0966c7196c05",
   "metadata": {},
   "outputs": [],
   "source": [
    "\"\"\" 11. What does the sentence import areallyourpetsnamederic do? \"\"\"\n",
    "\n",
    "# Python import a module named areallyourpetsnamederic"
   ]
  },
  {
   "cell_type": "code",
   "execution_count": 17,
   "id": "8f1b5343-c7c3-4ddc-a61d-c8026fd8a797",
   "metadata": {
    "tags": []
   },
   "outputs": [
    {
     "ename": "ModuleNotFoundError",
     "evalue": "No module named 'spam'",
     "output_type": "error",
     "traceback": [
      "\u001b[1;31m---------------------------------------------------------------------------\u001b[0m",
      "\u001b[1;31mModuleNotFoundError\u001b[0m                       Traceback (most recent call last)",
      "Cell \u001b[1;32mIn[17], line 5\u001b[0m\n\u001b[0;32m      1\u001b[0m \u001b[38;5;124;03m\"\"\" 12. If you had a bacon() feature in a spam module, what would you call it after importing spam? \"\"\"\u001b[39;00m\n\u001b[0;32m      3\u001b[0m \u001b[38;5;66;03m# we can call bacon() after importing spam\u001b[39;00m\n\u001b[1;32m----> 5\u001b[0m \u001b[38;5;28;01mimport\u001b[39;00m \u001b[38;5;21;01mspam\u001b[39;00m\n\u001b[0;32m      6\u001b[0m spam\u001b[38;5;241m.\u001b[39mbacon()\n",
      "\u001b[1;31mModuleNotFoundError\u001b[0m: No module named 'spam'"
     ]
    }
   ],
   "source": [
    "\"\"\" 12. If you had a bacon() feature in a spam module, what would you call it after importing spam? \"\"\"\n",
    "\n",
    "# we can call bacon() after importing spam\n",
    "\n",
    "import spam\n",
    "spam.bacon()"
   ]
  },
  {
   "cell_type": "code",
   "execution_count": null,
   "id": "f5cf1648-255a-48ca-9b09-6159d203f137",
   "metadata": {
    "tags": []
   },
   "outputs": [
    {
     "data": {
      "text/plain": [
       "' 13. What can you do to save a programme from crashing if it encounters an error? '"
      ]
     },
     "execution_count": 18,
     "metadata": {},
     "output_type": "execute_result"
    }
   ],
   "source": [
    "\"\"\" 13. What can you do to save a programme from crashing if it encounters an error? \"\"\"\n",
    "\n",
    "# Use exception handling to catch and handle errors.\n",
    "\n"
   ]
  },
  {
   "cell_type": "code",
   "execution_count": 20,
   "id": "47b749bf-cb81-4cff-8fc2-9c4e3aa1f331",
   "metadata": {
    "tags": []
   },
   "outputs": [
    {
     "ename": "IndentationError",
     "evalue": "expected an indented block after 'try' statement on line 3 (2442921166.py, line 5)",
     "output_type": "error",
     "traceback": [
      "\u001b[1;36m  Cell \u001b[1;32mIn[20], line 5\u001b[1;36m\u001b[0m\n\u001b[1;33m    except:\u001b[0m\n\u001b[1;37m    ^\u001b[0m\n\u001b[1;31mIndentationError\u001b[0m\u001b[1;31m:\u001b[0m expected an indented block after 'try' statement on line 3\n"
     ]
    }
   ],
   "source": [
    "\"\"\" 14. What is the purpose of the try clause? What is the purpose of the except clause? \"\"\"\n",
    "\n",
    "# try \n",
    "    # block of code that may raise an exception\n",
    "except:\n",
    "    # block of code to handle the exception"
   ]
  },
  {
   "cell_type": "code",
   "execution_count": null,
   "id": "49d5896f-0a37-4a58-a631-6cc9e65eaab0",
   "metadata": {},
   "outputs": [],
   "source": []
  }
 ],
 "metadata": {
  "kernelspec": {
   "display_name": "Python 3 (ipykernel)",
   "language": "python",
   "name": "python3"
  },
  "language_info": {
   "codemirror_mode": {
    "name": "ipython",
    "version": 3
   },
   "file_extension": ".py",
   "mimetype": "text/x-python",
   "name": "python",
   "nbconvert_exporter": "python",
   "pygments_lexer": "ipython3",
   "version": "3.11.2"
  }
 },
 "nbformat": 4,
 "nbformat_minor": 5
}
