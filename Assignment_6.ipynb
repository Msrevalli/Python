{
 "cells": [
  {
   "cell_type": "code",
   "execution_count": 4,
   "id": "28685ea6-59e1-4d73-a757-8690cf157475",
   "metadata": {
    "tags": []
   },
   "outputs": [
    {
     "name": "stdout",
     "output_type": "stream",
     "text": [
      "Line 1\n",
      "Line 2\n",
      "-------\n",
      "Line 1\tLine 2\n",
      "-------\n",
      "Line 2\n"
     ]
    }
   ],
   "source": [
    "\"\"\" 1. What are escape characters, and how do you use them? \"\"\"\n",
    "\n",
    "# \\n - newline character, to separate the lines and create a new line after each line\n",
    "# \\t - tab character, it inserts a tab space at that poin\n",
    "# \\r - carriage return character, it causes the cursor to return to the beginning of the current line\n",
    "\n",
    "print(\"Line 1\\nLine 2\")\n",
    "print(\"-------\")\n",
    "print(\"Line 1\\tLine 2\")\n",
    "print(\"-------\")\n",
    "print(\"Line 1\\rLine 2\") \n"
   ]
  },
  {
   "cell_type": "code",
   "execution_count": 5,
   "id": "c850ceb6-2b0b-49c9-9593-999a91c2c980",
   "metadata": {
    "tags": []
   },
   "outputs": [
    {
     "name": "stdout",
     "output_type": "stream",
     "text": [
      "Line 1\n",
      "Line 2\n",
      "-------\n",
      "Line 1\tLine 2\n"
     ]
    }
   ],
   "source": [
    "\"\"\" 2. What do the escape characters n and t stand for? \"\"\"\n",
    "\n",
    "# \\n - newline character, to separate the lines and create a new line after each line\n",
    "# \\t - tab character, it inserts a tab space at that poin\n",
    "\n",
    "print(\"Line 1\\nLine 2\")\n",
    "print(\"-------\")\n",
    "print(\"Line 1\\tLine 2\")\n"
   ]
  },
  {
   "cell_type": "code",
   "execution_count": 11,
   "id": "06175f47-1e25-4edc-b3a0-bb5891d7eb51",
   "metadata": {
    "tags": []
   },
   "outputs": [
    {
     "name": "stdout",
     "output_type": "stream",
     "text": [
      "This is a backslash\\\n"
     ]
    }
   ],
   "source": [
    "\"\"\" 3. What is the way to include backslash characters in a string? \"\"\"\n",
    "\n",
    "# To include a backslash character in a string, \n",
    "# you need to use a backslash itself, as the backslash is an escape character in python.\n",
    "#If you want to include a backslash in a string, you need to \"escape\" it by adding another backslash before it.\n",
    "\n",
    "my_string=\"This is a backslash\\\\\"\n",
    "print(my_string2)"
   ]
  },
  {
   "cell_type": "code",
   "execution_count": 14,
   "id": "633b0b7e-58de-422f-9171-44ffd3285f99",
   "metadata": {
    "tags": []
   },
   "outputs": [
    {
     "name": "stdout",
     "output_type": "stream",
     "text": [
      "Howl's Moving Castle\n"
     ]
    }
   ],
   "source": [
    "\"\"\" 4. The string \"Howl's Moving Castle\" is a correct value.\n",
    "    Why isn't the single quote character in the word Howl's not escaped a problem? \"\"\"\n",
    "\n",
    "\"\"\"  \"Howl's Moving Castle\" is defined with double quotes, so the single quote character within the string does not need to be escaped. \n",
    "Python will recognize the string as starting with a double quote and ending with a double quote, \n",
    "and will treat the single quote character as a regular character within the string.\"\"\"\n",
    "\n",
    "print(\"Howl's Moving Castle\") # correct\n",
    "# print('Howl's Moving Castle') # not correct"
   ]
  },
  {
   "cell_type": "code",
   "execution_count": 20,
   "id": "dcd47e28-f4fe-4fa8-965a-48dfad1f0282",
   "metadata": {
    "tags": []
   },
   "outputs": [
    {
     "name": "stdout",
     "output_type": "stream",
     "text": [
      "Hi\n",
      "Hello\n",
      "-------\n",
      "Hi\n",
      "Hello\n"
     ]
    }
   ],
   "source": [
    "\"\"\" 5. How do you write a string of newlines if you don't want to use the n character? \"\"\"\n",
    "\n",
    "# Using os.linesep we can write a string of newlines\n",
    "\n",
    "print(\"Hi\\nHello\")# using \\n\n",
    "print(\"-------\")\n",
    "import os\n",
    "print(\"Hi\"+os.linesep*1+\"Hello\")# using os.linesep"
   ]
  },
  {
   "cell_type": "code",
   "execution_count": 21,
   "id": "e8884d2c-e251-4b8a-84d6-a951f03ee23b",
   "metadata": {
    "tags": []
   },
   "outputs": [
    {
     "data": {
      "text/plain": [
       "'lo, world!'"
      ]
     },
     "execution_count": 21,
     "metadata": {},
     "output_type": "execute_result"
    }
   ],
   "source": [
    "\"\"\" 6. What are the values of the given expressions?\n",
    "'Hello, world!'[1]\n",
    "'Hello, world!'[0:5]\n",
    "'Hello, world!'[:5]\n",
    "'Hello, world!'[3:]\n",
    "\"\"\"\n",
    "\n",
    "\n",
    "'Hello, world!'[1]\n",
    "'Hello, world!'[0:5]\n",
    "'Hello, world!'[:5]\n",
    "'Hello, world!'[3:]\n"
   ]
  },
  {
   "cell_type": "code",
   "execution_count": null,
   "id": "1617db80-fff4-487a-bfb9-e39a0c343be4",
   "metadata": {},
   "outputs": [],
   "source": []
  }
 ],
 "metadata": {
  "kernelspec": {
   "display_name": "Python 3 (ipykernel)",
   "language": "python",
   "name": "python3"
  },
  "language_info": {
   "codemirror_mode": {
    "name": "ipython",
    "version": 3
   },
   "file_extension": ".py",
   "mimetype": "text/x-python",
   "name": "python",
   "nbconvert_exporter": "python",
   "pygments_lexer": "ipython3",
   "version": "3.11.2"
  }
 },
 "nbformat": 4,
 "nbformat_minor": 5
}
