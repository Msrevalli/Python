{
 "cells": [
  {
   "cell_type": "code",
   "execution_count": 4,
   "id": "28685ea6-59e1-4d73-a757-8690cf157475",
   "metadata": {
    "tags": []
   },
   "outputs": [
    {
     "name": "stdout",
     "output_type": "stream",
     "text": [
      "Line 1\n",
      "Line 2\n",
      "-------\n",
      "Line 1\tLine 2\n",
      "-------\n",
      "Line 2\n"
     ]
    }
   ],
   "source": [
    "\"\"\" 1. What are escape characters, and how do you use them? \"\"\"\n",
    "\n",
    "# \\n - newline character, to separate the lines and create a new line after each line\n",
    "# \\t - tab character, it inserts a tab space at that poin\n",
    "# \\r - carriage return character, it causes the cursor to return to the beginning of the current line\n",
    "\n",
    "print(\"Line 1\\nLine 2\")\n",
    "print(\"-------\")\n",
    "print(\"Line 1\\tLine 2\")\n",
    "print(\"-------\")\n",
    "print(\"Line 1\\rLine 2\") \n"
   ]
  },
  {
   "cell_type": "code",
   "execution_count": 5,
   "id": "c850ceb6-2b0b-49c9-9593-999a91c2c980",
   "metadata": {
    "tags": []
   },
   "outputs": [
    {
     "name": "stdout",
     "output_type": "stream",
     "text": [
      "Line 1\n",
      "Line 2\n",
      "-------\n",
      "Line 1\tLine 2\n"
     ]
    }
   ],
   "source": [
    "\"\"\" 2. What do the escape characters n and t stand for? \"\"\"\n",
    "\n",
    "# \\n - newline character, to separate the lines and create a new line after each line\n",
    "# \\t - tab character, it inserts a tab space at that poin\n",
    "\n",
    "print(\"Line 1\\nLine 2\")\n",
    "print(\"-------\")\n",
    "print(\"Line 1\\tLine 2\")\n"
   ]
  },
  {
   "cell_type": "code",
   "execution_count": 11,
   "id": "06175f47-1e25-4edc-b3a0-bb5891d7eb51",
   "metadata": {
    "tags": []
   },
   "outputs": [
    {
     "name": "stdout",
     "output_type": "stream",
     "text": [
      "This is a backslash\\\n"
     ]
    }
   ],
   "source": [
    "\"\"\" 3. What is the way to include backslash characters in a string? \"\"\"\n",
    "\n",
    "# To include a backslash character in a string, \n",
    "# you need to use a backslash itself, as the backslash is an escape character in python.\n",
    "#If you want to include a backslash in a string, you need to \"escape\" it by adding another backslash before it.\n",
    "\n",
    "my_string=\"This is a backslash\\\\\"\n",
    "print(my_string2)"
   ]
  },
  {
   "cell_type": "code",
   "execution_count": 14,
   "id": "633b0b7e-58de-422f-9171-44ffd3285f99",
   "metadata": {
    "tags": []
   },
   "outputs": [
    {
     "name": "stdout",
     "output_type": "stream",
     "text": [
      "Howl's Moving Castle\n"
     ]
    }
   ],
   "source": [
    "\"\"\" 4. The string \"Howl's Moving Castle\" is a correct value.\n",
    "    Why isn't the single quote character in the word Howl's not escaped a problem? \"\"\"\n",
    "\n",
    "\"\"\"  \"Howl's Moving Castle\" is defined with double quotes, so the single quote character within the string does not need to be escaped. \n",
    "Python will recognize the string as starting with a double quote and ending with a double quote, \n",
    "and will treat the single quote character as a regular character within the string.\"\"\"\n",
    "\n",
    "print(\"Howl's Moving Castle\") # correct\n",
    "# print('Howl's Moving Castle') # not correct"
   ]
  },
  {
   "cell_type": "code",
   "execution_count": 20,
   "id": "dcd47e28-f4fe-4fa8-965a-48dfad1f0282",
   "metadata": {
    "tags": []
   },
   "outputs": [
    {
     "name": "stdout",
     "output_type": "stream",
     "text": [
      "Hi\n",
      "Hello\n",
      "-------\n",
      "Hi\n",
      "Hello\n"
     ]
    }
   ],
   "source": [
    "\"\"\" 5. How do you write a string of newlines if you don't want to use the n character? \"\"\"\n",
    "\n",
    "# Using os.linesep we can write a string of newlines\n",
    "\n",
    "print(\"Hi\\nHello\")# using \\n\n",
    "print(\"-------\")\n",
    "import os\n",
    "print(\"Hi\"+os.linesep*1+\"Hello\")# using os.linesep"
   ]
  },
  {
   "cell_type": "code",
   "execution_count": 23,
   "id": "e8884d2c-e251-4b8a-84d6-a951f03ee23b",
   "metadata": {
    "tags": []
   },
   "outputs": [
    {
     "name": "stdout",
     "output_type": "stream",
     "text": [
      "e\n",
      "Hello\n",
      "Hello\n",
      "lo, world!\n"
     ]
    }
   ],
   "source": [
    "\"\"\" 6. What are the values of the given expressions?\n",
    "'Hello, world!'[1]\n",
    "'Hello, world!'[0:5]\n",
    "'Hello, world!'[:5]\n",
    "'Hello, world!'[3:]\n",
    "\"\"\"\n",
    "\n",
    "\n",
    "print('Hello, world!'[1])\n",
    "print('Hello, world!'[0:5])\n",
    "print('Hello, world!'[:5])\n",
    "print('Hello, world!'[3:])\n"
   ]
  },
  {
   "cell_type": "code",
   "execution_count": 25,
   "id": "1617db80-fff4-487a-bfb9-e39a0c343be4",
   "metadata": {},
   "outputs": [
    {
     "name": "stdout",
     "output_type": "stream",
     "text": [
      "HELLO\n",
      "True\n",
      "hello\n"
     ]
    }
   ],
   "source": [
    "\"\"\" 7. What are the values of the following expressions?\n",
    "'Hello'.upper()\n",
    "'Hello'.upper().isupper()\n",
    "'Hello'.upper().lower()\n",
    "\"\"\"\n",
    "\n",
    "print('Hello'.upper()) # Prints upper case\n",
    "print('Hello'.upper().isupper()) # Verify is it upper case\n",
    "print('Hello'.upper().lower()) # Verify is it lower case\n"
   ]
  },
  {
   "cell_type": "code",
   "execution_count": 27,
   "id": "98ed154e-4644-4beb-b789-bfeb70b8193f",
   "metadata": {
    "tags": []
   },
   "outputs": [
    {
     "name": "stdout",
     "output_type": "stream",
     "text": [
      "['Remember,', 'remember,', 'the', 'fifth', 'of', 'July.']\n",
      "There-can-only-one.\n"
     ]
    }
   ],
   "source": [
    "\"\"\" 8. What are the values of the following expressions?\n",
    "'Remember, remember, the fifth of July.'.split()\n",
    "'-'.join('There can only one.'.split())\n",
    "\"\"\"\n",
    "\n",
    "print('Remember, remember, the fifth of July.'.split()) # split the text by whitespace\n",
    "print('-'.join('There can only one.'.split())) # split the text by whitespace and join the text by -\n"
   ]
  },
  {
   "cell_type": "code",
   "execution_count": 63,
   "id": "d112df8c-9bfd-4a95-b3a9-a53d661ec58f",
   "metadata": {
    "tags": []
   },
   "outputs": [
    {
     "name": "stdout",
     "output_type": "stream",
     "text": [
      "Hello\n",
      "--------\n",
      "  Hello   \n",
      "               Hello\n",
      "Hello     \n"
     ]
    }
   ],
   "source": [
    "\"\"\" 9. What are the methods for right-justifying, left-justifying, and centering a string? \"\"\"\n",
    "\n",
    "# rjust() is for right-justifying\n",
    "# ljust() is for left-justifying\n",
    "# center() is for entering a string\n",
    "\n",
    "my_string = \"Hello\"\n",
    "\n",
    "print(my_string)\n",
    "print(\"--------\")\n",
    "\n",
    "center_justifying = my_string.center(10)\n",
    "print(center_justifying)\n",
    "\n",
    "right_justifying = my_string.rjust(20)\n",
    "print(right_justifying)\n",
    "\n",
    "\n",
    "left_justifying = my_string.ljust(10)\n",
    "print(left_justifying)\n"
   ]
  },
  {
   "cell_type": "code",
   "execution_count": 67,
   "id": "4a87247b-31f1-4055-923a-ca74619d4fcd",
   "metadata": {
    "tags": []
   },
   "outputs": [
    {
     "ename": "SyntaxError",
     "evalue": "unterminated string literal (detected at line 6) (3954428912.py, line 6)",
     "output_type": "error",
     "traceback": [
      "\u001b[1;36m  Cell \u001b[1;32mIn[67], line 6\u001b[1;36m\u001b[0m\n\u001b[1;33m    print(f\"'{my_string}')\u001b[0m\n\u001b[1;37m          ^\u001b[0m\n\u001b[1;31mSyntaxError\u001b[0m\u001b[1;31m:\u001b[0m unterminated string literal (detected at line 6)\n"
     ]
    }
   ],
   "source": [
    "\"\"\" 10. What is the best way to remove whitespace characters from the start or end? \"\"\"\n",
    "\n",
    "# Using strip() we can remove whitespace characters from start or end\n",
    "\n",
    "my_string = \"   Hello   \"\n",
    "print(f\"'{my_string}')\n",
    "\n",
    "clean_string = my_string.strip()\n",
    "print(clean_string)\n"
   ]
  },
  {
   "cell_type": "code",
   "execution_count": null,
   "id": "0e4818ed-357c-4bfd-b77a-6ef4c3a0b956",
   "metadata": {},
   "outputs": [],
   "source": []
  }
 ],
 "metadata": {
  "kernelspec": {
   "display_name": "Python 3 (ipykernel)",
   "language": "python",
   "name": "python3"
  },
  "language_info": {
   "codemirror_mode": {
    "name": "ipython",
    "version": 3
   },
   "file_extension": ".py",
   "mimetype": "text/x-python",
   "name": "python",
   "nbconvert_exporter": "python",
   "pygments_lexer": "ipython3",
   "version": "3.11.2"
  }
 },
 "nbformat": 4,
 "nbformat_minor": 5
}
