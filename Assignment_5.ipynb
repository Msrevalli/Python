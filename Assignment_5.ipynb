{
 "cells": [
  {
   "cell_type": "code",
   "execution_count": 2,
   "id": "5bd5f076-3dbf-44ad-8017-76a809531f6f",
   "metadata": {
    "tags": []
   },
   "outputs": [
    {
     "name": "stdout",
     "output_type": "stream",
     "text": [
      "{}\n",
      "{}\n"
     ]
    }
   ],
   "source": [
    "\"\"\" 1. What does an empty dictionary's code look like? \"\"\"\n",
    "\n",
    "my_dict1={} #empty dictionary\n",
    "print(my_dict1)\n",
    "\n",
    "my_dict2=dict() #empty dictionary\n",
    "print(my_dict2)\n"
   ]
  },
  {
   "cell_type": "code",
   "execution_count": 4,
   "id": "db9946e1-0eda-4d19-8050-579c9aef5520",
   "metadata": {
    "tags": []
   },
   "outputs": [
    {
     "data": {
      "text/plain": [
       "42"
      ]
     },
     "execution_count": 4,
     "metadata": {},
     "output_type": "execute_result"
    }
   ],
   "source": [
    "\"\"\" 2. What is the value of a dictionary value with the key 'foo' and the value 42? \"\"\"\n",
    "\n",
    "my_dict={'foo':42}\n",
    "my_dict['foo']"
   ]
  },
  {
   "cell_type": "code",
   "execution_count": null,
   "id": "07137b31-dc15-42c1-9e0b-d923fad9d80b",
   "metadata": {},
   "outputs": [],
   "source": [
    "\"\"\" 3. What is the most significant distinction between a dictionary and a list? \"\"\"\n",
    "\n",
    "# list is an ordered collection of elements accessed by index position, \n",
    "#whereas a dictionary is an unordered collection of key-value pairs accessed by unique keys"
   ]
  },
  {
   "cell_type": "code",
   "execution_count": 5,
   "id": "795b7e71-bc3b-4008-baf9-b8a8ab8940c0",
   "metadata": {
    "tags": []
   },
   "outputs": [
    {
     "ename": "KeyError",
     "evalue": "'foo'",
     "output_type": "error",
     "traceback": [
      "\u001b[1;31m---------------------------------------------------------------------------\u001b[0m",
      "\u001b[1;31mKeyError\u001b[0m                                  Traceback (most recent call last)",
      "Cell \u001b[1;32mIn[5], line 4\u001b[0m\n\u001b[0;32m      1\u001b[0m \u001b[38;5;124;03m\"\"\" 4. What happens if you try to access spam['foo'] if spam is {'bar': 100}? \"\"\"\u001b[39;00m\n\u001b[0;32m      3\u001b[0m spam\u001b[38;5;241m=\u001b[39m{\u001b[38;5;124m'\u001b[39m\u001b[38;5;124mbar\u001b[39m\u001b[38;5;124m'\u001b[39m:\u001b[38;5;241m100\u001b[39m}\n\u001b[1;32m----> 4\u001b[0m \u001b[43mspam\u001b[49m\u001b[43m[\u001b[49m\u001b[38;5;124;43m'\u001b[39;49m\u001b[38;5;124;43mfoo\u001b[39;49m\u001b[38;5;124;43m'\u001b[39;49m\u001b[43m]\u001b[49m\n",
      "\u001b[1;31mKeyError\u001b[0m: 'foo'"
     ]
    }
   ],
   "source": [
    "\"\"\" 4. What happens if you try to access spam['foo'] if spam is {'bar': 100}? \"\"\"\n",
    "\n",
    "spam={'bar':100}\n",
    "spam['foo']#key error"
   ]
  },
  {
   "cell_type": "code",
   "execution_count": 7,
   "id": "ae2933b4-eb1b-486c-b1ef-bc913d628bcd",
   "metadata": {
    "tags": []
   },
   "outputs": [
    {
     "name": "stdout",
     "output_type": "stream",
     "text": [
      "True\n",
      "True\n"
     ]
    }
   ],
   "source": [
    "\"\"\" 5. If a dictionary is stored in spam, what is the difference between the expressions 'cat' in spam and 'cat' in spam.keys()? \"\"\"\n",
    "\n",
    "# the expression 'cat' in spam will check if the key 'cat' is present in the dictionary spam. \n",
    "# the expression 'cat' in spam.values() will check if the value 'cat' is present in any of the keys of the dictionary spam.\n",
    "\n",
    "spam={'cat':1,'dog':2}\n",
    "\n",
    "print(f\"{'cat' in spam}\")\n",
    "print('cat' in spam.keys())\n"
   ]
  },
  {
   "cell_type": "code",
   "execution_count": 9,
   "id": "ed83824c-fb25-4156-bd3b-c412c2320bc5",
   "metadata": {
    "tags": []
   },
   "outputs": [
    {
     "name": "stdout",
     "output_type": "stream",
     "text": [
      "True\n",
      "False\n"
     ]
    }
   ],
   "source": [
    "\"\"\" 6. If a dictionary is stored in spam, what is the difference between the expressions 'cat' in spam and 'cat' in spam.values()? \"\"\"\n",
    "\n",
    "# the expression 'cat' in spam will check if the key 'cat' is present in the dictionary spam. \n",
    "# the expression 'cat' in spam.values() will check if the value 'cat' is present in any of the values of the dictionary spam.\n",
    "\n",
    "spam={'cat':1,'dog':2}\n",
    "\n",
    "print(f\"{'cat' in spam}\")\n",
    "print('cat' in spam.values())"
   ]
  },
  {
   "cell_type": "code",
   "execution_count": 15,
   "id": "584c9e12-afca-4a03-a4d8-82351625ce0e",
   "metadata": {
    "tags": []
   },
   "outputs": [
    {
     "data": {
      "text/plain": [
       "{'cat': 1, 'dog': 2, 'color': 'black'}"
      ]
     },
     "execution_count": 15,
     "metadata": {},
     "output_type": "execute_result"
    }
   ],
   "source": [
    "\"\"\" 7. What is a shortcut for the following code?\n",
    "if 'color' not in spam:\n",
    "spam['color'] = 'black'\n",
    "\"\"\"\n",
    "\n",
    "spam.setdefault('color','black')\n",
    "spam"
   ]
  },
  {
   "cell_type": "code",
   "execution_count": null,
   "id": "4dac2e43-2325-41ee-b3dd-1e4a8b222867",
   "metadata": {},
   "outputs": [],
   "source": []
  }
 ],
 "metadata": {
  "kernelspec": {
   "display_name": "Python 3 (ipykernel)",
   "language": "python",
   "name": "python3"
  },
  "language_info": {
   "codemirror_mode": {
    "name": "ipython",
    "version": 3
   },
   "file_extension": ".py",
   "mimetype": "text/x-python",
   "name": "python",
   "nbconvert_exporter": "python",
   "pygments_lexer": "ipython3",
   "version": "3.11.2"
  }
 },
 "nbformat": 4,
 "nbformat_minor": 5
}
